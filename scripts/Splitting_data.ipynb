{
 "cells": [
  {
   "cell_type": "code",
   "execution_count": 1,
   "id": "1329c18e",
   "metadata": {
    "ExecuteTime": {
     "end_time": "2022-11-27T19:38:58.879709Z",
     "start_time": "2022-11-27T19:38:57.633962Z"
    }
   },
   "outputs": [],
   "source": [
    "import torch\n",
    "import torch.nn as nn\n",
    "import torch.nn.functional as F\n",
    "from torch.utils.data import DataLoader, TensorDataset\n",
    "from torchvision import datasets, transforms, models # add models to the list\n",
    "from torchvision.utils import make_grid\n",
    "import os\n",
    "\n",
    "from sklearn.datasets import make_blobs\n",
    "from sklearn.model_selection import train_test_split\n",
    "from sklearn import preprocessing\n",
    "\n",
    "import numpy as np\n",
    "import pandas as pd\n",
    "import matplotlib.pyplot as plt\n",
    "%matplotlib inline\n",
    "\n",
    "import os\n",
    "from PIL import Image\n",
    "from IPython.display import display\n",
    "\n",
    "# Filter harmless warnings\n",
    "import warnings\n",
    "warnings.filterwarnings(\"ignore\")"
   ]
  },
  {
   "cell_type": "markdown",
   "id": "45cf2dd0",
   "metadata": {},
   "source": [
    "# Wczytanie pliku .csv\n",
    "Zaczynamy od wczytania pliku csv w którym są zapisane ścieżki do poszczególnych zdjęć oraz współrzędne punktów"
   ]
  },
  {
   "cell_type": "code",
   "execution_count": 2,
   "id": "6818c902",
   "metadata": {
    "ExecuteTime": {
     "end_time": "2022-11-27T19:38:58.886937Z",
     "start_time": "2022-11-27T19:38:58.880896Z"
    },
    "scrolled": true
   },
   "outputs": [],
   "source": [
    "df = pd.read_csv('./files/data.csv') \n",
    "df_INPUT_DEPTH = df[['depth_img_I', 'depth_img_II']]\n",
    "df_INPUT_RGB = df[['rgb_img_I', 'rgb_img_II']]\n",
    "df_OUTPUT = df[['x1','y1','z1','x2','y2','z2']]"
   ]
  },
  {
   "cell_type": "markdown",
   "id": "e29ce45e",
   "metadata": {},
   "source": [
    "# Funkcje\n",
    "Stworzenie fukncji, które tłumaczą pliki na język matematyczny"
   ]
  },
  {
   "cell_type": "code",
   "execution_count": 3,
   "id": "ffb2102a",
   "metadata": {
    "ExecuteTime": {
     "end_time": "2022-11-27T19:38:58.899256Z",
     "start_time": "2022-11-27T19:38:58.887896Z"
    }
   },
   "outputs": [],
   "source": [
    "def load_rgb_dataset(top_dir='./files/images/rgb_img_I'):\n",
    "    images_dataset = []\n",
    "    for root, dirs, files in os.walk(top_dir):\n",
    "        for name in files:\n",
    "            # print(os.path.join(root, name))\n",
    "            img = np.array(Image.open(os.path.join(root, name)))\n",
    "            np.array(images_dataset.append(img))\n",
    "    return np.array(images_dataset)\n",
    "\n",
    "def load_depth_dataset(depth_series, row=0):    \n",
    "    depth_dataset = []\n",
    "    for n in range(depth_series.shape[0]):\n",
    "        depth = np.array(np.load(depth_series.iloc[n,row]))\n",
    "        np.array(depth_dataset.append(depth))\n",
    "    \n",
    "    return np.array(depth_dataset)"
   ]
  },
  {
   "cell_type": "markdown",
   "id": "68719e44",
   "metadata": {},
   "source": [
    "# Załadowanie danych\n",
    "Ładujemy dane do zmiennych a następnie odpowiednio przekształcamy"
   ]
  },
  {
   "cell_type": "code",
   "execution_count": 4,
   "id": "b130e12a",
   "metadata": {
    "ExecuteTime": {
     "end_time": "2022-11-27T19:39:00.431502Z",
     "start_time": "2022-11-27T19:38:58.900663Z"
    }
   },
   "outputs": [],
   "source": [
    "RGBimg_begin = load_rgb_dataset('./files/images/rgb_img_I')\n",
    "RGBimg_end = load_rgb_dataset('./files/images/rgb_img_II')"
   ]
  },
  {
   "cell_type": "code",
   "execution_count": 5,
   "id": "201c2d7d",
   "metadata": {
    "ExecuteTime": {
     "end_time": "2022-11-27T19:39:00.659736Z",
     "start_time": "2022-11-27T19:39:00.432652Z"
    }
   },
   "outputs": [],
   "source": [
    "DEPTHimg_begin = load_depth_dataset(df_INPUT_DEPTH,0)\n",
    "DEPTHimg_end = load_depth_dataset(df_INPUT_DEPTH,1)\n",
    "# print(DEPTHimg_end[30][400])"
   ]
  },
  {
   "cell_type": "code",
   "execution_count": 6,
   "id": "7e31d631",
   "metadata": {
    "ExecuteTime": {
     "end_time": "2022-11-27T19:39:01.755562Z",
     "start_time": "2022-11-27T19:39:00.660810Z"
    },
    "scrolled": true
   },
   "outputs": [
    {
     "name": "stdout",
     "output_type": "stream",
     "text": [
      "torch.Size([149, 3, 480, 640])\n"
     ]
    }
   ],
   "source": [
    "# Creating input for model\n",
    "transform = transforms.Compose([\n",
    "    transforms.Normalize(mean=[0.485, 0.456, 0.406], std=[0.229, 0.224, 0.225])\n",
    "])\n",
    "\n",
    "# Taking first rgb image\n",
    "rgb_in = RGBimg_begin    \n",
    "rgb_in = rgb_in.transpose(0,3,1,2)\n",
    "rgb_in = torch.FloatTensor(rgb_in).div(255)\n",
    "rgb_in = transform(rgb_in)\n",
    "\n",
    "# Taking depth beginning state of the movement\n",
    "depthBeg_in = DEPTHimg_begin\n",
    "depthBeg_in = depthBeg_in.reshape((depthBeg_in.shape[0], depthBeg_in.shape[1], depthBeg_in.shape[2], 1))\n",
    "depthBeg_in = depthBeg_in.transpose(0,3,1,2)\n",
    "depthBeg_in = torch.FloatTensor(depthBeg_in).div(65535)\n",
    "\n",
    "# Taking depth end state of the movement\n",
    "depthEnd_in = DEPTHimg_end\n",
    "depthEnd_in = depthEnd_in.reshape((depthEnd_in.shape[0], depthEnd_in.shape[1], depthEnd_in.shape[2], 1))\n",
    "depthEnd_in = depthEnd_in.transpose(0,3,1,2)\n",
    "depthEnd_in = torch.Tensor(depthEnd_in).div(65535)\n",
    "\n",
    "# Taking depth difference between movements\n",
    "depthDiff_in = abs(DEPTHimg_begin - DEPTHimg_end)\n",
    "depthDiff_in = depthDiff_in.reshape((depthDiff_in.shape[0], depthDiff_in.shape[1], depthDiff_in.shape[2], 1))\n",
    "depthDiff_in = depthDiff_in.transpose(0,3,1,2)\n",
    "depthDiff_in = torch.Tensor(depthDiff_in).div(65535)\n",
    "\n",
    "# Taking outputs\n",
    "axis_out = df_OUTPUT.values\n",
    "axis_out = torch.Tensor(axis_out)\n",
    "\n",
    "# Koncowe wejście do modelu\n",
    "DDD_in = torch.cat((depthBeg_in, depthEnd_in, depthDiff_in),axis=1)\n",
    "DDD_in = transform(DDD_in)\n",
    "print(DDD_in.shape)\n",
    "\n",
    "RGBD_input = torch.cat((rgb_in, DDD_in),axis=1)\n",
    "# RGBD_input = DDD_in"
   ]
  },
  {
   "cell_type": "code",
   "execution_count": 7,
   "id": "0c0844fc",
   "metadata": {
    "ExecuteTime": {
     "end_time": "2022-11-27T19:39:01.760504Z",
     "start_time": "2022-11-27T19:39:01.756593Z"
    },
    "scrolled": false
   },
   "outputs": [
    {
     "data": {
      "text/plain": [
       "torch.Size([149, 6, 480, 640])"
      ]
     },
     "execution_count": 7,
     "metadata": {},
     "output_type": "execute_result"
    }
   ],
   "source": [
    "RGBD_input.shape"
   ]
  },
  {
   "cell_type": "markdown",
   "id": "5bf4d92a",
   "metadata": {},
   "source": [
    "# RGB + D \n",
    "Na wejście do modelu zostanie podany tensor zawieający kombinację RGB + D "
   ]
  },
  {
   "cell_type": "code",
   "execution_count": 8,
   "id": "f2280a63",
   "metadata": {
    "ExecuteTime": {
     "end_time": "2022-11-27T19:39:01.897577Z",
     "start_time": "2022-11-27T19:39:01.761504Z"
    }
   },
   "outputs": [],
   "source": [
    "# rgb_inTensor = torch.tensor(rgb_in.astype(float), dtype=torch.float)\n",
    "# depth_inTensor = torch.tensor(depth_in.astype(float), dtype=torch.float)\n",
    "# axis_outTensor = torch.tensor(axis_out.astype(float), dtype=torch.float)\n",
    "X_train, X_test, y_train, y_test = train_test_split(RGBD_input, axis_out, test_size=0.2)"
   ]
  },
  {
   "cell_type": "code",
   "execution_count": 9,
   "id": "0ce8d4a4",
   "metadata": {
    "ExecuteTime": {
     "end_time": "2022-11-27T19:39:01.900746Z",
     "start_time": "2022-11-27T19:39:01.899207Z"
    }
   },
   "outputs": [],
   "source": [
    "# X_train = X_train.cuda()\n",
    "# X_test = X_test.cuda()\n",
    "# y_train = y_train.cuda()\n",
    "# y_test = y_test.cuda()"
   ]
  },
  {
   "cell_type": "code",
   "execution_count": 10,
   "id": "23db3ec1",
   "metadata": {
    "ExecuteTime": {
     "end_time": "2022-11-27T19:39:01.914480Z",
     "start_time": "2022-11-27T19:39:01.902909Z"
    }
   },
   "outputs": [],
   "source": [
    "AoRD_trainDataset = TensorDataset(X_train, y_train)\n",
    "AoRD_trainDataset = TensorDataset(X_test, y_test)"
   ]
  },
  {
   "cell_type": "code",
   "execution_count": 11,
   "id": "53f756c0",
   "metadata": {
    "ExecuteTime": {
     "end_time": "2022-11-27T19:39:01.927542Z",
     "start_time": "2022-11-27T19:39:01.915721Z"
    },
    "scrolled": true
   },
   "outputs": [],
   "source": [
    "train_loader = DataLoader(AoRD_trainDataset, batch_size=8, shuffle=True)\n",
    "test_loader = DataLoader(AoRD_trainDataset, batch_size=8, shuffle=True)"
   ]
  },
  {
   "cell_type": "code",
   "execution_count": 12,
   "id": "a5a3ccde",
   "metadata": {
    "ExecuteTime": {
     "end_time": "2022-11-27T19:39:01.940444Z",
     "start_time": "2022-11-27T19:39:01.928544Z"
    },
    "scrolled": false
   },
   "outputs": [],
   "source": [
    "# plt.imshow(depth_in[34])"
   ]
  },
  {
   "cell_type": "code",
   "execution_count": 13,
   "id": "d23f0d98",
   "metadata": {
    "ExecuteTime": {
     "end_time": "2022-11-27T19:39:01.953735Z",
     "start_time": "2022-11-27T19:39:01.941516Z"
    }
   },
   "outputs": [],
   "source": [
    "# plt.imshow(rgb_in[34])"
   ]
  },
  {
   "cell_type": "code",
   "execution_count": 14,
   "id": "4e61e9bd",
   "metadata": {
    "ExecuteTime": {
     "end_time": "2022-11-27T19:39:01.968854Z",
     "start_time": "2022-11-27T19:39:01.955016Z"
    }
   },
   "outputs": [],
   "source": [
    "# ResNetModel = models.resnet101(pretrained=False)\n",
    "# ResNetModel"
   ]
  },
  {
   "cell_type": "code",
   "execution_count": 15,
   "id": "962968f5",
   "metadata": {
    "ExecuteTime": {
     "end_time": "2022-11-27T19:39:01.985566Z",
     "start_time": "2022-11-27T19:39:01.970465Z"
    }
   },
   "outputs": [],
   "source": [
    "# ResNetModel.conv1 = nn.Conv2d(in_channels=4, out_channels=64, kernel_size=(7, 7), stride=(2, 2), padding=(3, 3), bias=False)"
   ]
  },
  {
   "cell_type": "markdown",
   "id": "159076ba",
   "metadata": {},
   "source": [
    "# Wyciąganie pojedyńczego elementu z batcha\n",
    "Można zrobić to na kilka sposobów, ale ten jest najszybszy"
   ]
  },
  {
   "cell_type": "code",
   "execution_count": 16,
   "id": "ab99ce6c",
   "metadata": {
    "ExecuteTime": {
     "end_time": "2022-11-27T19:39:02.093624Z",
     "start_time": "2022-11-27T19:39:01.987847Z"
    }
   },
   "outputs": [],
   "source": [
    "for b, (X_train, y_train) in enumerate(train_loader):\n",
    "    pass"
   ]
  },
  {
   "cell_type": "code",
   "execution_count": 17,
   "id": "9f83ac1a",
   "metadata": {
    "ExecuteTime": {
     "end_time": "2022-11-27T19:39:02.098261Z",
     "start_time": "2022-11-27T19:39:02.095134Z"
    }
   },
   "outputs": [
    {
     "data": {
      "text/plain": [
       "torch.Size([6, 6, 480, 640])"
      ]
     },
     "execution_count": 17,
     "metadata": {},
     "output_type": "execute_result"
    }
   ],
   "source": [
    "X_train.shape"
   ]
  },
  {
   "cell_type": "markdown",
   "id": "a3404cd6",
   "metadata": {},
   "source": [
    "# Stworzenie modelu\n",
    "Nazwałem model AoRNet od angielsiego **A**xis **o**f **R**rotation oraz od nazwy modelu matki Res**Net**`u "
   ]
  },
  {
   "cell_type": "code",
   "execution_count": 18,
   "id": "0e0db1ad",
   "metadata": {
    "ExecuteTime": {
     "end_time": "2022-11-27T19:39:02.115209Z",
     "start_time": "2022-11-27T19:39:02.099670Z"
    }
   },
   "outputs": [],
   "source": [
    "class AoRNet(nn.Module):\n",
    "    def __init__(self,pretrained=False ,input_channels=6, output_size=6):\n",
    "        super().__init__()\n",
    "        self.resnet50 = models.resnet50(pretrained=pretrained)\n",
    "        self.resnet50.conv1 = nn.Conv2d(in_channels=input_channels, out_channels=64, kernel_size=(7, 7), stride=(2, 2), padding=(3, 3), bias=False)\n",
    "        self.resnet50.fc = nn.Linear(in_features=2048, out_features=output_size, bias=True)\n",
    "    \n",
    "    def forward(self, X):\n",
    "        return self.resnet50(X)"
   ]
  },
  {
   "cell_type": "code",
   "execution_count": 19,
   "id": "a9a67d9d",
   "metadata": {
    "ExecuteTime": {
     "end_time": "2022-11-27T19:39:03.704860Z",
     "start_time": "2022-11-27T19:39:02.116830Z"
    }
   },
   "outputs": [],
   "source": [
    "Model = AoRNet().cuda()"
   ]
  },
  {
   "cell_type": "code",
   "execution_count": 20,
   "id": "7b0f079a",
   "metadata": {
    "ExecuteTime": {
     "end_time": "2022-11-27T19:39:03.709448Z",
     "start_time": "2022-11-27T19:39:03.706268Z"
    }
   },
   "outputs": [],
   "source": [
    "criterion = nn.MSELoss()\n",
    "optimizer = torch.optim.Adam(Model.parameters(), lr=0.001)\n",
    "scheduler = torch.optim.lr_scheduler.ReduceLROnPlateau(optimizer=optimizer, mode='min')"
   ]
  },
  {
   "cell_type": "code",
   "execution_count": 21,
   "id": "7793f216",
   "metadata": {
    "ExecuteTime": {
     "end_time": "2022-11-27T19:39:03.719229Z",
     "start_time": "2022-11-27T19:39:03.710550Z"
    }
   },
   "outputs": [],
   "source": [
    "def count_parameters(model):\n",
    "    params = [p.numel() for p in model.parameters() if p.requires_grad]\n",
    "    for item in params:\n",
    "        print(f'{item:>8}')\n",
    "    print(f'________\\n{sum(params):>8}')\n",
    "# count_parameters(My_Model)"
   ]
  },
  {
   "cell_type": "code",
   "execution_count": 22,
   "id": "ad777bc4",
   "metadata": {
    "ExecuteTime": {
     "end_time": "2022-11-27T19:42:01.189852Z",
     "start_time": "2022-11-27T19:39:03.720530Z"
    },
    "scrolled": true
   },
   "outputs": [
    {
     "name": "stdout",
     "output_type": "stream",
     "text": [
      "epoch:  1  batch: 1  loss: 2.28012943\n",
      "epoch:  1  batch: 2  loss: 2.30933261\n",
      "epoch:  1  batch: 3  loss: 0.26234064\n",
      "epoch:  1  batch: 4  loss: 0.43855420\n",
      "epoch:  2  batch: 1  loss: 0.24291277\n",
      "epoch:  2  batch: 2  loss: 0.06675425\n",
      "epoch:  2  batch: 3  loss: 0.28166404\n",
      "epoch:  2  batch: 4  loss: 0.07097908\n",
      "epoch:  3  batch: 1  loss: 0.12232298\n",
      "epoch:  3  batch: 2  loss: 0.16730392\n",
      "epoch:  3  batch: 3  loss: 0.11016083\n",
      "epoch:  3  batch: 4  loss: 0.06787626\n",
      "epoch:  4  batch: 1  loss: 0.11063676\n",
      "epoch:  4  batch: 2  loss: 0.04443929\n",
      "epoch:  4  batch: 3  loss: 0.03561527\n",
      "epoch:  4  batch: 4  loss: 0.06023783\n",
      "epoch:  5  batch: 1  loss: 0.04449012\n",
      "epoch:  5  batch: 2  loss: 0.08317773\n",
      "epoch:  5  batch: 3  loss: 0.05097241\n",
      "epoch:  5  batch: 4  loss: 0.04311935\n",
      "epoch:  6  batch: 1  loss: 0.04305856\n",
      "epoch:  6  batch: 2  loss: 0.05106083\n",
      "epoch:  6  batch: 3  loss: 0.04642919\n",
      "epoch:  6  batch: 4  loss: 0.02326172\n",
      "epoch:  7  batch: 1  loss: 0.02222460\n",
      "epoch:  7  batch: 2  loss: 0.02867869\n",
      "epoch:  7  batch: 3  loss: 0.01726387\n",
      "epoch:  7  batch: 4  loss: 0.02089296\n",
      "epoch:  8  batch: 1  loss: 0.03226591\n",
      "epoch:  8  batch: 2  loss: 0.01622670\n",
      "epoch:  8  batch: 3  loss: 0.01720605\n",
      "epoch:  8  batch: 4  loss: 0.03895645\n",
      "epoch:  9  batch: 1  loss: 0.02275548\n",
      "epoch:  9  batch: 2  loss: 0.01742277\n",
      "epoch:  9  batch: 3  loss: 0.05389444\n",
      "epoch:  9  batch: 4  loss: 0.01608560\n",
      "epoch: 10  batch: 1  loss: 0.02360422\n",
      "epoch: 10  batch: 2  loss: 0.01607120\n",
      "epoch: 10  batch: 3  loss: 0.02481145\n",
      "epoch: 10  batch: 4  loss: 0.02577805\n",
      "epoch: 11  batch: 1  loss: 0.01974931\n",
      "epoch: 11  batch: 2  loss: 0.02119945\n",
      "epoch: 11  batch: 3  loss: 0.01608299\n",
      "epoch: 11  batch: 4  loss: 0.02743771\n",
      "epoch: 12  batch: 1  loss: 0.00549799\n",
      "epoch: 12  batch: 2  loss: 0.01508353\n",
      "epoch: 12  batch: 3  loss: 0.02009378\n",
      "epoch: 12  batch: 4  loss: 0.02274165\n",
      "epoch: 13  batch: 1  loss: 0.01811753\n",
      "epoch: 13  batch: 2  loss: 0.01660562\n",
      "epoch: 13  batch: 3  loss: 0.00907478\n",
      "epoch: 13  batch: 4  loss: 0.01820386\n",
      "epoch: 14  batch: 1  loss: 0.01505549\n",
      "epoch: 14  batch: 2  loss: 0.01564137\n",
      "epoch: 14  batch: 3  loss: 0.01234889\n",
      "epoch: 14  batch: 4  loss: 0.01551785\n",
      "epoch: 15  batch: 1  loss: 0.01398635\n",
      "epoch: 15  batch: 2  loss: 0.01239953\n",
      "epoch: 15  batch: 3  loss: 0.01693403\n",
      "epoch: 15  batch: 4  loss: 0.00963033\n",
      "epoch: 16  batch: 1  loss: 0.01086278\n",
      "epoch: 16  batch: 2  loss: 0.01956925\n",
      "epoch: 16  batch: 3  loss: 0.01074849\n",
      "epoch: 16  batch: 4  loss: 0.00969456\n",
      "epoch: 17  batch: 1  loss: 0.01340962\n",
      "epoch: 17  batch: 2  loss: 0.00915145\n",
      "epoch: 17  batch: 3  loss: 0.01390621\n",
      "epoch: 17  batch: 4  loss: 0.01582445\n",
      "epoch: 18  batch: 1  loss: 0.00763795\n",
      "epoch: 18  batch: 2  loss: 0.01600688\n",
      "epoch: 18  batch: 3  loss: 0.00564023\n",
      "epoch: 18  batch: 4  loss: 0.01829054\n",
      "epoch: 19  batch: 1  loss: 0.01112244\n",
      "epoch: 19  batch: 2  loss: 0.00676901\n",
      "epoch: 19  batch: 3  loss: 0.01460310\n",
      "epoch: 19  batch: 4  loss: 0.00989913\n",
      "epoch: 20  batch: 1  loss: 0.00690401\n",
      "epoch: 20  batch: 2  loss: 0.01562293\n",
      "epoch: 20  batch: 3  loss: 0.01635692\n",
      "epoch: 20  batch: 4  loss: 0.02025802\n",
      "epoch: 21  batch: 1  loss: 0.01043625\n",
      "epoch: 21  batch: 2  loss: 0.00523655\n",
      "epoch: 21  batch: 3  loss: 0.02329953\n",
      "epoch: 21  batch: 4  loss: 0.02893890\n",
      "epoch: 22  batch: 1  loss: 0.01628315\n",
      "epoch: 22  batch: 2  loss: 0.01450118\n",
      "epoch: 22  batch: 3  loss: 0.03149971\n",
      "epoch: 22  batch: 4  loss: 0.01819278\n",
      "epoch: 23  batch: 1  loss: 0.00783694\n",
      "epoch: 23  batch: 2  loss: 0.01810205\n",
      "epoch: 23  batch: 3  loss: 0.01469582\n",
      "epoch: 23  batch: 4  loss: 0.01763065\n",
      "epoch: 24  batch: 1  loss: 0.00999766\n",
      "epoch: 24  batch: 2  loss: 0.00803768\n",
      "epoch: 24  batch: 3  loss: 0.01219082\n",
      "epoch: 24  batch: 4  loss: 0.03247563\n",
      "epoch: 25  batch: 1  loss: 0.00698773\n",
      "epoch: 25  batch: 2  loss: 0.00480917\n",
      "epoch: 25  batch: 3  loss: 0.01731873\n",
      "epoch: 25  batch: 4  loss: 0.00741989\n",
      "epoch: 26  batch: 1  loss: 0.01140521\n",
      "epoch: 26  batch: 2  loss: 0.00544478\n",
      "epoch: 26  batch: 3  loss: 0.01052443\n",
      "epoch: 26  batch: 4  loss: 0.00730738\n",
      "epoch: 27  batch: 1  loss: 0.00608929\n",
      "epoch: 27  batch: 2  loss: 0.01129563\n",
      "epoch: 27  batch: 3  loss: 0.01440529\n",
      "epoch: 27  batch: 4  loss: 0.02237923\n",
      "epoch: 28  batch: 1  loss: 0.01018931\n",
      "epoch: 28  batch: 2  loss: 0.00906193\n",
      "epoch: 28  batch: 3  loss: 0.00925399\n",
      "epoch: 28  batch: 4  loss: 0.01188019\n",
      "epoch: 29  batch: 1  loss: 0.00724301\n",
      "epoch: 29  batch: 2  loss: 0.01315454\n",
      "epoch: 29  batch: 3  loss: 0.01183198\n",
      "epoch: 29  batch: 4  loss: 0.01218775\n",
      "epoch: 30  batch: 1  loss: 0.00995849\n",
      "epoch: 30  batch: 2  loss: 0.00799127\n",
      "epoch: 30  batch: 3  loss: 0.01983524\n",
      "epoch: 30  batch: 4  loss: 0.01324821\n",
      "epoch: 31  batch: 1  loss: 0.00835886\n",
      "epoch: 31  batch: 2  loss: 0.00731451\n",
      "epoch: 31  batch: 3  loss: 0.03449723\n",
      "epoch: 31  batch: 4  loss: 0.01840660\n",
      "epoch: 32  batch: 1  loss: 0.00368649\n",
      "epoch: 32  batch: 2  loss: 0.02251658\n",
      "epoch: 32  batch: 3  loss: 0.01656824\n",
      "epoch: 32  batch: 4  loss: 0.01846721\n",
      "epoch: 33  batch: 1  loss: 0.01178605\n",
      "epoch: 33  batch: 2  loss: 0.01016359\n",
      "epoch: 33  batch: 3  loss: 0.03194150\n",
      "epoch: 33  batch: 4  loss: 0.02308475\n",
      "epoch: 34  batch: 1  loss: 0.00780639\n",
      "epoch: 34  batch: 2  loss: 0.01763741\n",
      "epoch: 34  batch: 3  loss: 0.01541242\n",
      "epoch: 34  batch: 4  loss: 0.03055315\n",
      "epoch: 35  batch: 1  loss: 0.00671332\n",
      "epoch: 35  batch: 2  loss: 0.00766256\n",
      "epoch: 35  batch: 3  loss: 0.00747484\n",
      "epoch: 35  batch: 4  loss: 0.01172376\n",
      "epoch: 36  batch: 1  loss: 0.01578071\n",
      "epoch: 36  batch: 2  loss: 0.00382189\n",
      "epoch: 36  batch: 3  loss: 0.00554347\n",
      "epoch: 36  batch: 4  loss: 0.01165863\n",
      "epoch: 37  batch: 1  loss: 0.00364053\n",
      "epoch: 37  batch: 2  loss: 0.01493436\n",
      "epoch: 37  batch: 3  loss: 0.01029010\n",
      "epoch: 37  batch: 4  loss: 0.01318939\n",
      "epoch: 38  batch: 1  loss: 0.00799345\n",
      "epoch: 38  batch: 2  loss: 0.00348101\n",
      "epoch: 38  batch: 3  loss: 0.00403310\n",
      "epoch: 38  batch: 4  loss: 0.01129682\n",
      "epoch: 39  batch: 1  loss: 0.00454042\n",
      "epoch: 39  batch: 2  loss: 0.00330099\n",
      "epoch: 39  batch: 3  loss: 0.00349710\n",
      "epoch: 39  batch: 4  loss: 0.01416735\n",
      "epoch: 40  batch: 1  loss: 0.00216005\n",
      "epoch: 40  batch: 2  loss: 0.00184804\n",
      "epoch: 40  batch: 3  loss: 0.00306688\n",
      "epoch: 40  batch: 4  loss: 0.00334884\n",
      "epoch: 41  batch: 1  loss: 0.00491406\n",
      "epoch: 41  batch: 2  loss: 0.00174295\n",
      "epoch: 41  batch: 3  loss: 0.00312893\n",
      "epoch: 41  batch: 4  loss: 0.00217010\n",
      "epoch: 42  batch: 1  loss: 0.00555383\n",
      "epoch: 42  batch: 2  loss: 0.00159682\n",
      "epoch: 42  batch: 3  loss: 0.00354383\n",
      "epoch: 42  batch: 4  loss: 0.00133526\n",
      "epoch: 43  batch: 1  loss: 0.00247840\n",
      "epoch: 43  batch: 2  loss: 0.00103465\n",
      "epoch: 43  batch: 3  loss: 0.00148084\n",
      "epoch: 43  batch: 4  loss: 0.00379173\n",
      "epoch: 44  batch: 1  loss: 0.00204602\n",
      "epoch: 44  batch: 2  loss: 0.00150569\n",
      "epoch: 44  batch: 3  loss: 0.00165610\n",
      "epoch: 44  batch: 4  loss: 0.00056394\n",
      "epoch: 45  batch: 1  loss: 0.00135371\n",
      "epoch: 45  batch: 2  loss: 0.00181395\n",
      "epoch: 45  batch: 3  loss: 0.00305293\n",
      "epoch: 45  batch: 4  loss: 0.00390634\n",
      "epoch: 46  batch: 1  loss: 0.00159719\n",
      "epoch: 46  batch: 2  loss: 0.00111255\n",
      "epoch: 46  batch: 3  loss: 0.00315268\n",
      "epoch: 46  batch: 4  loss: 0.00104086\n",
      "epoch: 47  batch: 1  loss: 0.00135013\n",
      "epoch: 47  batch: 2  loss: 0.00190469\n",
      "epoch: 47  batch: 3  loss: 0.00341486\n",
      "epoch: 47  batch: 4  loss: 0.00373412\n",
      "epoch: 48  batch: 1  loss: 0.00140274\n",
      "epoch: 48  batch: 2  loss: 0.00150203\n",
      "epoch: 48  batch: 3  loss: 0.00071036\n",
      "epoch: 48  batch: 4  loss: 0.00253897\n",
      "epoch: 49  batch: 1  loss: 0.00169431\n",
      "epoch: 49  batch: 2  loss: 0.00114516\n",
      "epoch: 49  batch: 3  loss: 0.00477045\n",
      "epoch: 49  batch: 4  loss: 0.00459924\n",
      "epoch: 50  batch: 1  loss: 0.00152263\n",
      "epoch: 50  batch: 2  loss: 0.00186717\n",
      "epoch: 50  batch: 3  loss: 0.00181767\n",
      "epoch: 50  batch: 4  loss: 0.00302905\n",
      "epoch: 51  batch: 1  loss: 0.00200166\n",
      "epoch: 51  batch: 2  loss: 0.00144218\n",
      "epoch: 51  batch: 3  loss: 0.00114432\n",
      "epoch: 51  batch: 4  loss: 0.00225318\n",
      "epoch: 52  batch: 1  loss: 0.00426831\n",
      "epoch: 52  batch: 2  loss: 0.00149731\n",
      "epoch: 52  batch: 3  loss: 0.00211361\n",
      "epoch: 52  batch: 4  loss: 0.00256921\n",
      "epoch: 53  batch: 1  loss: 0.00159934\n",
      "epoch: 53  batch: 2  loss: 0.00103227\n",
      "epoch: 53  batch: 3  loss: 0.00415033\n",
      "epoch: 53  batch: 4  loss: 0.00109230\n",
      "epoch: 54  batch: 1  loss: 0.00689488\n",
      "epoch: 54  batch: 2  loss: 0.00173135\n",
      "epoch: 54  batch: 3  loss: 0.00110904\n",
      "epoch: 54  batch: 4  loss: 0.00290905\n"
     ]
    },
    {
     "name": "stdout",
     "output_type": "stream",
     "text": [
      "epoch: 55  batch: 1  loss: 0.00165912\n",
      "epoch: 55  batch: 2  loss: 0.00187966\n",
      "epoch: 55  batch: 3  loss: 0.00320377\n",
      "epoch: 55  batch: 4  loss: 0.00229757\n",
      "epoch: 56  batch: 1  loss: 0.00236661\n",
      "epoch: 56  batch: 2  loss: 0.00194661\n",
      "epoch: 56  batch: 3  loss: 0.00231464\n",
      "epoch: 56  batch: 4  loss: 0.00233607\n",
      "epoch: 57  batch: 1  loss: 0.00143554\n",
      "epoch: 57  batch: 2  loss: 0.00094277\n",
      "epoch: 57  batch: 3  loss: 0.00161178\n",
      "epoch: 57  batch: 4  loss: 0.00132834\n",
      "epoch: 58  batch: 1  loss: 0.00475737\n",
      "epoch: 58  batch: 2  loss: 0.00152072\n",
      "epoch: 58  batch: 3  loss: 0.00124423\n",
      "epoch: 58  batch: 4  loss: 0.00263727\n",
      "epoch: 59  batch: 1  loss: 0.00197322\n",
      "epoch: 59  batch: 2  loss: 0.00197280\n",
      "epoch: 59  batch: 3  loss: 0.00199588\n",
      "epoch: 59  batch: 4  loss: 0.00160673\n",
      "epoch: 60  batch: 1  loss: 0.00063304\n",
      "epoch: 60  batch: 2  loss: 0.00126428\n",
      "epoch: 60  batch: 3  loss: 0.00128885\n",
      "epoch: 60  batch: 4  loss: 0.00248227\n",
      "epoch: 61  batch: 1  loss: 0.00149921\n",
      "epoch: 61  batch: 2  loss: 0.00109977\n",
      "epoch: 61  batch: 3  loss: 0.00231829\n",
      "epoch: 61  batch: 4  loss: 0.00294247\n",
      "epoch: 62  batch: 1  loss: 0.00204617\n",
      "epoch: 62  batch: 2  loss: 0.00112431\n",
      "epoch: 62  batch: 3  loss: 0.00240654\n",
      "epoch: 62  batch: 4  loss: 0.00517178\n",
      "epoch: 63  batch: 1  loss: 0.00232528\n",
      "epoch: 63  batch: 2  loss: 0.00288226\n",
      "epoch: 63  batch: 3  loss: 0.00272422\n",
      "epoch: 63  batch: 4  loss: 0.00201437\n",
      "epoch: 64  batch: 1  loss: 0.00270509\n",
      "epoch: 64  batch: 2  loss: 0.00232987\n",
      "epoch: 64  batch: 3  loss: 0.00242666\n",
      "epoch: 64  batch: 4  loss: 0.00127967\n",
      "epoch: 65  batch: 1  loss: 0.00203358\n",
      "epoch: 65  batch: 2  loss: 0.00140914\n",
      "epoch: 65  batch: 3  loss: 0.00241269\n",
      "epoch: 65  batch: 4  loss: 0.00295944\n",
      "epoch: 66  batch: 1  loss: 0.00282713\n",
      "epoch: 66  batch: 2  loss: 0.00360111\n",
      "epoch: 66  batch: 3  loss: 0.00198051\n",
      "epoch: 66  batch: 4  loss: 0.00138394\n",
      "epoch: 67  batch: 1  loss: 0.00306319\n",
      "epoch: 67  batch: 2  loss: 0.00126744\n",
      "epoch: 67  batch: 3  loss: 0.00209720\n",
      "epoch: 67  batch: 4  loss: 0.00297898\n",
      "epoch: 68  batch: 1  loss: 0.00125914\n",
      "epoch: 68  batch: 2  loss: 0.00131856\n",
      "epoch: 68  batch: 3  loss: 0.00190311\n",
      "epoch: 68  batch: 4  loss: 0.00440563\n",
      "epoch: 69  batch: 1  loss: 0.00107350\n",
      "epoch: 69  batch: 2  loss: 0.00319353\n",
      "epoch: 69  batch: 3  loss: 0.00247682\n",
      "epoch: 69  batch: 4  loss: 0.00396043\n",
      "epoch: 70  batch: 1  loss: 0.00235917\n",
      "epoch: 70  batch: 2  loss: 0.00135395\n",
      "epoch: 70  batch: 3  loss: 0.00400018\n",
      "epoch: 70  batch: 4  loss: 0.00131647\n",
      "epoch: 71  batch: 1  loss: 0.00168146\n",
      "epoch: 71  batch: 2  loss: 0.00139583\n",
      "epoch: 71  batch: 3  loss: 0.00248114\n",
      "epoch: 71  batch: 4  loss: 0.00113768\n",
      "epoch: 72  batch: 1  loss: 0.00290974\n",
      "epoch: 72  batch: 2  loss: 0.00471997\n",
      "epoch: 72  batch: 3  loss: 0.00093861\n",
      "epoch: 72  batch: 4  loss: 0.00243197\n",
      "epoch: 73  batch: 1  loss: 0.00130994\n",
      "epoch: 73  batch: 2  loss: 0.00084289\n",
      "epoch: 73  batch: 3  loss: 0.00173047\n",
      "epoch: 73  batch: 4  loss: 0.00180735\n",
      "epoch: 74  batch: 1  loss: 0.00128346\n",
      "epoch: 74  batch: 2  loss: 0.00158450\n",
      "epoch: 74  batch: 3  loss: 0.00114443\n",
      "epoch: 74  batch: 4  loss: 0.00310196\n",
      "epoch: 75  batch: 1  loss: 0.00276602\n",
      "epoch: 75  batch: 2  loss: 0.00096995\n",
      "epoch: 75  batch: 3  loss: 0.00209291\n",
      "epoch: 75  batch: 4  loss: 0.00610483\n",
      "epoch: 76  batch: 1  loss: 0.00124487\n",
      "epoch: 76  batch: 2  loss: 0.00177452\n",
      "epoch: 76  batch: 3  loss: 0.00262563\n",
      "epoch: 76  batch: 4  loss: 0.00411941\n",
      "epoch: 77  batch: 1  loss: 0.00601086\n",
      "epoch: 77  batch: 2  loss: 0.00252260\n",
      "epoch: 77  batch: 3  loss: 0.00180727\n",
      "epoch: 77  batch: 4  loss: 0.00367845\n",
      "epoch: 78  batch: 1  loss: 0.00234177\n",
      "epoch: 78  batch: 2  loss: 0.00364119\n",
      "epoch: 78  batch: 3  loss: 0.00120151\n",
      "epoch: 78  batch: 4  loss: 0.01004297\n",
      "epoch: 79  batch: 1  loss: 0.00144191\n",
      "epoch: 79  batch: 2  loss: 0.00101905\n",
      "epoch: 79  batch: 3  loss: 0.00216580\n",
      "epoch: 79  batch: 4  loss: 0.00395288\n",
      "epoch: 80  batch: 1  loss: 0.00286339\n",
      "epoch: 80  batch: 2  loss: 0.00561043\n",
      "epoch: 80  batch: 3  loss: 0.00672067\n",
      "epoch: 80  batch: 4  loss: 0.00138706\n",
      "epoch: 81  batch: 1  loss: 0.00155202\n",
      "epoch: 81  batch: 2  loss: 0.00210906\n",
      "epoch: 81  batch: 3  loss: 0.00429121\n",
      "epoch: 81  batch: 4  loss: 0.00105356\n",
      "epoch: 82  batch: 1  loss: 0.00124384\n",
      "epoch: 82  batch: 2  loss: 0.00097832\n",
      "epoch: 82  batch: 3  loss: 0.00087826\n",
      "epoch: 82  batch: 4  loss: 0.00325353\n",
      "epoch: 83  batch: 1  loss: 0.00215179\n",
      "epoch: 83  batch: 2  loss: 0.00318559\n",
      "epoch: 83  batch: 3  loss: 0.00146528\n",
      "epoch: 83  batch: 4  loss: 0.00088047\n",
      "epoch: 84  batch: 1  loss: 0.00104120\n",
      "epoch: 84  batch: 2  loss: 0.00134856\n",
      "epoch: 84  batch: 3  loss: 0.00132764\n",
      "epoch: 84  batch: 4  loss: 0.00237766\n",
      "epoch: 85  batch: 1  loss: 0.00068682\n",
      "epoch: 85  batch: 2  loss: 0.00075839\n",
      "epoch: 85  batch: 3  loss: 0.00066782\n",
      "epoch: 85  batch: 4  loss: 0.00147928\n",
      "epoch: 86  batch: 1  loss: 0.00146412\n",
      "epoch: 86  batch: 2  loss: 0.00256747\n",
      "epoch: 86  batch: 3  loss: 0.00208878\n",
      "epoch: 86  batch: 4  loss: 0.00280158\n",
      "epoch: 87  batch: 1  loss: 0.00140859\n",
      "epoch: 87  batch: 2  loss: 0.00245720\n",
      "epoch: 87  batch: 3  loss: 0.00338617\n",
      "epoch: 87  batch: 4  loss: 0.00233625\n",
      "epoch: 88  batch: 1  loss: 0.00241120\n",
      "epoch: 88  batch: 2  loss: 0.00568459\n",
      "epoch: 88  batch: 3  loss: 0.00129040\n",
      "epoch: 88  batch: 4  loss: 0.00348714\n",
      "epoch: 89  batch: 1  loss: 0.00275946\n",
      "epoch: 89  batch: 2  loss: 0.00391247\n",
      "epoch: 89  batch: 3  loss: 0.00217300\n",
      "epoch: 89  batch: 4  loss: 0.00228954\n",
      "epoch: 90  batch: 1  loss: 0.00403047\n",
      "epoch: 90  batch: 2  loss: 0.00040931\n",
      "epoch: 90  batch: 3  loss: 0.00077169\n",
      "epoch: 90  batch: 4  loss: 0.00227005\n",
      "epoch: 91  batch: 1  loss: 0.00102010\n",
      "epoch: 91  batch: 2  loss: 0.00148005\n",
      "epoch: 91  batch: 3  loss: 0.00152935\n",
      "epoch: 91  batch: 4  loss: 0.00236524\n",
      "epoch: 92  batch: 1  loss: 0.00151428\n",
      "epoch: 92  batch: 2  loss: 0.00235508\n",
      "epoch: 92  batch: 3  loss: 0.00151115\n",
      "epoch: 92  batch: 4  loss: 0.00268000\n",
      "epoch: 93  batch: 1  loss: 0.00542352\n",
      "epoch: 93  batch: 2  loss: 0.00270483\n",
      "epoch: 93  batch: 3  loss: 0.00129215\n",
      "epoch: 93  batch: 4  loss: 0.00084792\n",
      "epoch: 94  batch: 1  loss: 0.00174912\n",
      "epoch: 94  batch: 2  loss: 0.00219130\n",
      "epoch: 94  batch: 3  loss: 0.00080678\n",
      "epoch: 94  batch: 4  loss: 0.00331038\n",
      "epoch: 95  batch: 1  loss: 0.00315823\n",
      "epoch: 95  batch: 2  loss: 0.00202989\n",
      "epoch: 95  batch: 3  loss: 0.00232175\n",
      "epoch: 95  batch: 4  loss: 0.00173689\n",
      "epoch: 96  batch: 1  loss: 0.00273726\n",
      "epoch: 96  batch: 2  loss: 0.00215152\n",
      "epoch: 96  batch: 3  loss: 0.00098994\n",
      "epoch: 96  batch: 4  loss: 0.00510114\n",
      "epoch: 97  batch: 1  loss: 0.00210834\n",
      "epoch: 97  batch: 2  loss: 0.00203688\n",
      "epoch: 97  batch: 3  loss: 0.00121730\n",
      "epoch: 97  batch: 4  loss: 0.00282127\n",
      "epoch: 98  batch: 1  loss: 0.00159724\n",
      "epoch: 98  batch: 2  loss: 0.00281447\n",
      "epoch: 98  batch: 3  loss: 0.00198815\n",
      "epoch: 98  batch: 4  loss: 0.00141590\n",
      "epoch: 99  batch: 1  loss: 0.00153704\n",
      "epoch: 99  batch: 2  loss: 0.00157513\n",
      "epoch: 99  batch: 3  loss: 0.00160127\n",
      "epoch: 99  batch: 4  loss: 0.00161460\n",
      "epoch: 100  batch: 1  loss: 0.00329044\n",
      "epoch: 100  batch: 2  loss: 0.00088505\n",
      "epoch: 100  batch: 3  loss: 0.00325074\n",
      "epoch: 100  batch: 4  loss: 0.00230864\n"
     ]
    }
   ],
   "source": [
    "epochs = 100\n",
    "\n",
    "train_losses = []\n",
    "test_losses = []\n",
    "\n",
    "for i in range(epochs):\n",
    "    # Run the training batches\n",
    "    for b, (X_train, y_train) in enumerate(train_loader):\n",
    "        b+=1\n",
    "        # Apply the model\n",
    "        y_pred = Model(X_train.cuda())\n",
    "        loss = criterion(y_pred, y_train.cuda())\n",
    "        \n",
    "        # Update parameters\n",
    "        optimizer.zero_grad()\n",
    "        loss.backward()\n",
    "        optimizer.step()\n",
    "\n",
    "        # Print interim results\n",
    "        if b%1 == 0:\n",
    "            print(f'epoch: {i+1:2}  batch: {b}  loss: {loss.item():10.8f}')\n",
    "    \n",
    "    train_losses.append(loss.cpu().detach().numpy())\n",
    "    scheduler.step(loss)\n",
    "    # Run the testing batches\n",
    "    with torch.no_grad():\n",
    "        for b, (X_test, y_test) in enumerate(test_loader):\n",
    "            # Apply the model\n",
    "            y_val = Model(X_test.cuda())\n",
    "    loss = criterion(y_val, y_test.cuda())\n",
    "    test_losses.append(loss.cpu().detach().numpy())\n",
    "#     test_correct.append(tst_corr)"
   ]
  },
  {
   "cell_type": "code",
   "execution_count": 23,
   "id": "e7796f69",
   "metadata": {
    "ExecuteTime": {
     "end_time": "2022-11-27T19:42:01.309014Z",
     "start_time": "2022-11-27T19:42:01.191179Z"
    },
    "scrolled": false
   },
   "outputs": [
    {
     "data": {
      "image/png": "[encoded data removed]",
      "text/plain": [
       "<Figure size 640x480 with 1 Axes>"
      ]
     },
     "metadata": {},
     "output_type": "display_data"
    }
   ],
   "source": [
    "plt.plot(train_losses, label='training loss')\n",
    "plt.plot(test_losses, label='testing loss')\n",
    "plt.legend();"
   ]
  },
  {
   "cell_type": "code",
   "execution_count": 24,
   "id": "74f35dce",
   "metadata": {
    "ExecuteTime": {
     "end_time": "2022-11-27T19:42:01.817099Z",
     "start_time": "2022-11-27T19:42:01.310640Z"
    },
    "scrolled": false
   },
   "outputs": [
    {
     "name": "stdout",
     "output_type": "stream",
     "text": [
      "--> BATCH: 1 <-- | --> ROW: 0 <--\n",
      "----------------------------------------------------------------------------------------------\n",
      "          X1           Y1           Z1           X2           Y2           Z2\n",
      "PREDICTED:\n",
      "[[    -0.01801,      0.64195,     -2.05990], [    -0.02660,     -0.87560,     -2.19280]]\n",
      "REAL:\n",
      "[[    -0.02027,      0.64620,     -2.12700], [    -0.03380,     -0.92668,     -2.21650]]\n",
      "DIFFERENCE:\n",
      "[[     0.00226,      0.00426,      0.06711], [     0.00719,      0.05108,      0.02370]]\n",
      "----------------------------------------------------------------------------------------------\n",
      "--> BATCH: 1 <-- | --> ROW: 1 <--\n",
      "----------------------------------------------------------------------------------------------\n",
      "          X1           Y1           Z1           X2           Y2           Z2\n",
      "PREDICTED:\n",
      "[[    -0.01357,      0.64336,     -2.09214], [    -0.01341,     -0.90831,     -2.19223]]\n",
      "REAL:\n",
      "[[    -0.02027,      0.64620,     -2.12700], [    -0.03380,     -0.92668,     -2.21650]]\n",
      "DIFFERENCE:\n",
      "[[     0.00670,      0.00285,      0.03486], [     0.02038,      0.01837,      0.02427]]\n",
      "----------------------------------------------------------------------------------------------\n",
      "--> BATCH: 1 <-- | --> ROW: 2 <--\n",
      "----------------------------------------------------------------------------------------------\n",
      "          X1           Y1           Z1           X2           Y2           Z2\n",
      "PREDICTED:\n",
      "[[    -0.40935,      0.70453,     -1.75258], [    -0.35640,     -0.69333,     -1.71841]]\n",
      "REAL:\n",
      "[[    -0.40718,      0.68764,     -1.77400], [    -0.35904,     -0.70196,     -1.69050]]\n",
      "DIFFERENCE:\n",
      "[[     0.00218,      0.01689,      0.02142], [     0.00264,      0.00863,      0.02791]]\n",
      "----------------------------------------------------------------------------------------------\n",
      "--> BATCH: 1 <-- | --> ROW: 3 <--\n",
      "----------------------------------------------------------------------------------------------\n",
      "          X1           Y1           Z1           X2           Y2           Z2\n",
      "PREDICTED:\n",
      "[[    -0.25850,      0.61181,     -1.91537], [    -0.23166,     -0.65940,     -1.71034]]\n",
      "REAL:\n",
      "[[    -0.29337,      0.60727,     -1.96200], [    -0.26306,     -0.69510,     -1.67400]]\n",
      "DIFFERENCE:\n",
      "[[     0.03487,      0.00454,      0.04663], [     0.03140,      0.03571,      0.03634]]\n",
      "----------------------------------------------------------------------------------------------\n",
      "--> BATCH: 1 <-- | --> ROW: 4 <--\n",
      "----------------------------------------------------------------------------------------------\n",
      "          X1           Y1           Z1           X2           Y2           Z2\n",
      "PREDICTED:\n",
      "[[     0.24790,      0.19969,     -1.67932], [     0.25905,     -0.34244,     -1.65826]]\n",
      "REAL:\n",
      "[[     0.22801,      0.17823,     -1.68600], [     0.23168,     -0.33602,     -1.61100]]\n",
      "DIFFERENCE:\n",
      "[[     0.01989,      0.02145,      0.00668], [     0.02738,      0.00642,      0.04726]]\n",
      "----------------------------------------------------------------------------------------------\n",
      "--> BATCH: 1 <-- | --> ROW: 5 <--\n",
      "----------------------------------------------------------------------------------------------\n",
      "          X1           Y1           Z1           X2           Y2           Z2\n",
      "PREDICTED:\n",
      "[[    -0.27438,      0.83025,     -2.40116], [    -0.25629,     -0.92635,     -2.42561]]\n",
      "REAL:\n",
      "[[    -0.30037,      0.81899,     -2.46400], [    -0.28544,     -0.94018,     -2.43750]]\n",
      "DIFFERENCE:\n",
      "[[     0.02599,      0.01126,      0.06284], [     0.02914,      0.01383,      0.01189]]\n",
      "----------------------------------------------------------------------------------------------\n",
      "--> BATCH: 1 <-- | --> ROW: 6 <--\n",
      "----------------------------------------------------------------------------------------------\n",
      "          X1           Y1           Z1           X2           Y2           Z2\n",
      "PREDICTED:\n",
      "[[    -0.09168,      0.53668,     -1.41387], [    -0.06201,     -0.63164,     -1.52889]]\n",
      "REAL:\n",
      "[[    -0.10797,      0.54656,     -1.41700], [    -0.09271,     -0.63447,     -1.52100]]\n",
      "DIFFERENCE:\n",
      "[[     0.01629,      0.00988,      0.00313], [     0.03069,      0.00284,      0.00789]]\n",
      "----------------------------------------------------------------------------------------------\n",
      "--> BATCH: 1 <-- | --> ROW: 7 <--\n",
      "----------------------------------------------------------------------------------------------\n",
      "          X1           Y1           Z1           X2           Y2           Z2\n",
      "PREDICTED:\n",
      "[[    -0.14817,      0.76461,     -2.13564], [    -0.13374,     -0.84324,     -2.10650]]\n",
      "REAL:\n",
      "[[    -0.14587,      0.80852,     -2.18800], [    -0.14697,     -0.88385,     -2.11400]]\n",
      "DIFFERENCE:\n",
      "[[     0.00230,      0.04392,      0.05236], [     0.01323,      0.04062,      0.00750]]\n",
      "----------------------------------------------------------------------------------------------\n",
      "--> BATCH: 2 <-- | --> ROW: 0 <--\n",
      "----------------------------------------------------------------------------------------------\n",
      "          X1           Y1           Z1           X2           Y2           Z2\n",
      "PREDICTED:\n",
      "[[    -0.17767,      0.68655,     -1.75019], [    -0.14104,     -0.73031,     -1.77980]]\n",
      "REAL:\n",
      "[[    -0.19092,      0.68764,     -1.77400], [    -0.13623,     -0.76245,     -1.83600]]\n",
      "DIFFERENCE:\n",
      "[[     0.01325,      0.00108,      0.02381], [     0.00481,      0.03214,      0.05620]]\n",
      "----------------------------------------------------------------------------------------------\n",
      "--> BATCH: 2 <-- | --> ROW: 1 <--\n",
      "----------------------------------------------------------------------------------------------\n",
      "          X1           Y1           Z1           X2           Y2           Z2\n",
      "PREDICTED:\n",
      "[[    -0.02039,      0.52056,     -1.90359], [    -0.00791,     -0.77025,     -1.86357]]\n",
      "REAL:\n",
      "[[     0.00538,      0.48417,     -1.89700], [     0.03751,     -0.77899,     -1.87600]]\n",
      "DIFFERENCE:\n",
      "[[     0.02577,      0.03639,      0.00659], [     0.04542,      0.00874,      0.01243]]\n",
      "----------------------------------------------------------------------------------------------\n",
      "--> BATCH: 2 <-- | --> ROW: 2 <--\n",
      "----------------------------------------------------------------------------------------------\n",
      "          X1           Y1           Z1           X2           Y2           Z2\n",
      "PREDICTED:\n",
      "[[     0.20351,      0.18360,     -1.66881], [     0.21041,     -0.34845,     -1.56105]]\n",
      "REAL:\n",
      "[[     0.22801,      0.17823,     -1.68600], [     0.23168,     -0.33602,     -1.61100]]\n",
      "DIFFERENCE:\n",
      "[[     0.02450,      0.00536,      0.01719], [     0.02126,      0.01243,      0.04995]]\n",
      "----------------------------------------------------------------------------------------------\n",
      "--> BATCH: 2 <-- | --> ROW: 3 <--\n",
      "----------------------------------------------------------------------------------------------\n",
      "          X1           Y1           Z1           X2           Y2           Z2\n",
      "PREDICTED:\n",
      "[[    -0.39338,      0.69042,     -1.76033], [    -0.36193,     -0.68491,     -1.67275]]\n",
      "REAL:\n",
      "[[    -0.39655,      0.66889,     -1.73400], [    -0.34362,     -0.69997,     -1.67800]]\n",
      "DIFFERENCE:\n",
      "[[     0.00317,      0.02153,      0.02633], [     0.01831,      0.01507,      0.00525]]\n",
      "----------------------------------------------------------------------------------------------\n",
      "--> BATCH: 2 <-- | --> ROW: 4 <--\n",
      "----------------------------------------------------------------------------------------------\n",
      "          X1           Y1           Z1           X2           Y2           Z2\n",
      "PREDICTED:\n",
      "[[     0.10456,      0.32724,     -1.14044], [     0.10713,     -0.16722,     -1.24248]]\n",
      "REAL:\n",
      "[[     0.09985,      0.33770,     -1.17800], [     0.10780,     -0.15744,     -1.30100]]\n",
      "DIFFERENCE:\n",
      "[[     0.00471,      0.01045,      0.03756], [     0.00067,      0.00978,      0.05852]]\n",
      "----------------------------------------------------------------------------------------------\n",
      "--> BATCH: 2 <-- | --> ROW: 5 <--\n",
      "----------------------------------------------------------------------------------------------\n",
      "          X1           Y1           Z1           X2           Y2           Z2\n",
      "PREDICTED:\n",
      "[[     0.45443,      0.11354,     -1.12347], [     0.45434,     -0.29679,     -1.17202]]\n",
      "REAL:\n",
      "[[     0.44540,      0.13033,     -1.19000], [     0.44683,     -0.33906,     -1.24450]]\n",
      "DIFFERENCE:\n",
      "[[     0.00902,      0.01679,      0.06653], [     0.00751,      0.04227,      0.07248]]\n",
      "----------------------------------------------------------------------------------------------\n",
      "--> BATCH: 2 <-- | --> ROW: 6 <--\n",
      "----------------------------------------------------------------------------------------------\n",
      "          X1           Y1           Z1           X2           Y2           Z2\n",
      "PREDICTED:\n",
      "[[    -0.28247,      0.81139,     -2.08057], [    -0.24135,     -0.81569,     -2.07567]]\n",
      "REAL:\n",
      "[[    -0.30735,      0.79714,     -2.05650], [    -0.25493,     -0.82605,     -2.07500]]\n",
      "DIFFERENCE:\n",
      "[[     0.02489,      0.01425,      0.02407], [     0.01358,      0.01036,      0.00067]]\n",
      "----------------------------------------------------------------------------------------------\n",
      "--> BATCH: 2 <-- | --> ROW: 7 <--\n",
      "----------------------------------------------------------------------------------------------\n",
      "          X1           Y1           Z1           X2           Y2           Z2\n",
      "PREDICTED:\n",
      "[[    -0.33957,      0.81515,     -2.03576], [    -0.34442,     -0.92456,     -2.25765]]\n",
      "REAL:\n",
      "[[    -0.28700,      0.79462,     -2.05000], [    -0.28483,     -0.92407,     -2.28300]]\n",
      "DIFFERENCE:\n",
      "[[     0.05257,      0.02053,      0.01424], [     0.05958,      0.00049,      0.02535]]\n",
      "----------------------------------------------------------------------------------------------\n",
      "--> BATCH: 3 <-- | --> ROW: 0 <--\n",
      "----------------------------------------------------------------------------------------------\n",
      "          X1           Y1           Z1           X2           Y2           Z2\n",
      "PREDICTED:\n",
      "[[    -0.08742,      0.68832,     -2.12892], [    -0.09814,     -0.93730,     -2.22622]]\n",
      "REAL:\n",
      "[[    -0.02027,      0.64620,     -2.12700], [    -0.03380,     -0.92668,     -2.21650]]\n",
      "DIFFERENCE:\n",
      "[[     0.06715,      0.04212,      0.00192], [     0.06434,      0.01062,      0.00972]]\n",
      "----------------------------------------------------------------------------------------------\n",
      "--> BATCH: 3 <-- | --> ROW: 1 <--\n",
      "----------------------------------------------------------------------------------------------\n",
      "          X1           Y1           Z1           X2           Y2           Z2\n",
      "PREDICTED:\n",
      "[[    -0.07565,      0.66916,     -2.13455], [    -0.07906,     -0.95639,     -2.20774]]\n",
      "REAL:\n",
      "[[    -0.02027,      0.64620,     -2.12700], [    -0.03380,     -0.92668,     -2.21650]]\n",
      "DIFFERENCE:\n",
      "[[     0.05538,      0.02295,      0.00755], [     0.04526,      0.02972,      0.00876]]\n",
      "----------------------------------------------------------------------------------------------\n",
      "--> BATCH: 3 <-- | --> ROW: 2 <--\n",
      "----------------------------------------------------------------------------------------------\n",
      "          X1           Y1           Z1           X2           Y2           Z2\n",
      "PREDICTED:\n",
      "[[    -0.36115,      0.79980,     -2.02506], [    -0.31078,     -0.83085,     -2.03007]]\n",
      "REAL:\n",
      "[[    -0.30735,      0.79714,     -2.05650], [    -0.25493,     -0.82605,     -2.07500]]\n",
      "DIFFERENCE:\n",
      "[[     0.05380,      0.00266,      0.03144], [     0.05585,      0.00480,      0.04493]]\n",
      "----------------------------------------------------------------------------------------------\n",
      "--> BATCH: 3 <-- | --> ROW: 3 <--\n",
      "----------------------------------------------------------------------------------------------\n",
      "          X1           Y1           Z1           X2           Y2           Z2\n",
      "PREDICTED:\n",
      "[[     0.44518,      0.16946,     -1.26306], [     0.43512,     -0.42239,     -1.30901]]\n",
      "REAL:\n",
      "[[     0.44540,      0.13033,     -1.19000], [     0.44683,     -0.33906,     -1.24450]]\n",
      "DIFFERENCE:\n",
      "[[     0.00022,      0.03913,      0.07306], [     0.01171,      0.08333,      0.06451]]\n",
      "----------------------------------------------------------------------------------------------\n",
      "--> BATCH: 3 <-- | --> ROW: 4 <--\n",
      "----------------------------------------------------------------------------------------------\n",
      "          X1           Y1           Z1           X2           Y2           Z2\n",
      "PREDICTED:\n",
      "[[     0.19410,      0.21029,     -1.71934], [     0.19296,     -0.36671,     -1.64790]]\n",
      "REAL:\n",
      "[[     0.22801,      0.17823,     -1.68600], [     0.23168,     -0.33602,     -1.61100]]\n",
      "DIFFERENCE:\n",
      "[[     0.03391,      0.03205,      0.03334], [     0.03871,      0.03070,      0.03690]]\n",
      "----------------------------------------------------------------------------------------------\n",
      "--> BATCH: 3 <-- | --> ROW: 5 <--\n",
      "----------------------------------------------------------------------------------------------\n",
      "          X1           Y1           Z1           X2           Y2           Z2\n",
      "PREDICTED:\n",
      "[[    -0.35706,      0.85471,     -2.39855], [    -0.33623,     -0.96384,     -2.38996]]\n",
      "REAL:\n",
      "[[    -0.30037,      0.81899,     -2.46400], [    -0.28544,     -0.94018,     -2.43750]]\n",
      "DIFFERENCE:\n",
      "[[     0.05668,      0.03572,      0.06545], [     0.05079,      0.02366,      0.04754]]\n",
      "----------------------------------------------------------------------------------------------\n",
      "--> BATCH: 3 <-- | --> ROW: 6 <--\n",
      "----------------------------------------------------------------------------------------------\n",
      "          X1           Y1           Z1           X2           Y2           Z2\n",
      "PREDICTED:\n",
      "[[    -0.16996,      0.88980,     -2.19200], [    -0.16109,     -0.83457,     -2.21043]]\n",
      "REAL:\n",
      "[[    -0.10820,      0.86478,     -2.23100], [    -0.09656,     -0.80679,     -2.25300]]\n",
      "DIFFERENCE:\n",
      "[[     0.06177,      0.02502,      0.03900], [     0.06453,      0.02779,      0.04257]]\n",
      "----------------------------------------------------------------------------------------------\n",
      "--> BATCH: 3 <-- | --> ROW: 7 <--\n",
      "----------------------------------------------------------------------------------------------\n",
      "          X1           Y1           Z1           X2           Y2           Z2\n",
      "PREDICTED:\n",
      "[[     0.05087,      0.39260,     -1.21966], [     0.05959,     -0.21176,     -1.34890]]\n",
      "REAL:\n",
      "[[     0.09985,      0.33770,     -1.17800], [     0.10780,     -0.15744,     -1.30100]]\n",
      "DIFFERENCE:\n",
      "[[     0.04899,      0.05490,      0.04166], [     0.04820,      0.05432,      0.04790]]\n",
      "----------------------------------------------------------------------------------------------\n",
      "--> BATCH: 4 <-- | --> ROW: 0 <--\n",
      "----------------------------------------------------------------------------------------------\n",
      "          X1           Y1           Z1           X2           Y2           Z2\n",
      "PREDICTED:\n"
     ]
    },
    {
     "name": "stdout",
     "output_type": "stream",
     "text": [
      "[[    -0.05311,      0.50977,     -1.49543], [    -0.01631,     -0.62991,     -1.55345]]\n",
      "REAL:\n",
      "[[    -0.03914,      0.54791,     -1.41700], [    -0.02323,     -0.63012,     -1.52450]]\n",
      "DIFFERENCE:\n",
      "[[     0.01397,      0.03814,      0.07843], [     0.00692,      0.00021,      0.02895]]\n",
      "----------------------------------------------------------------------------------------------\n",
      "--> BATCH: 4 <-- | --> ROW: 1 <--\n",
      "----------------------------------------------------------------------------------------------\n",
      "          X1           Y1           Z1           X2           Y2           Z2\n",
      "PREDICTED:\n",
      "[[    -0.31921,      0.62732,     -1.75007], [    -0.28684,     -0.70444,     -1.69418]]\n",
      "REAL:\n",
      "[[    -0.39655,      0.66889,     -1.73400], [    -0.34362,     -0.69997,     -1.67800]]\n",
      "DIFFERENCE:\n",
      "[[     0.07734,      0.04157,      0.01607], [     0.05678,      0.00447,      0.01618]]\n",
      "----------------------------------------------------------------------------------------------\n",
      "--> BATCH: 4 <-- | --> ROW: 2 <--\n",
      "----------------------------------------------------------------------------------------------\n",
      "          X1           Y1           Z1           X2           Y2           Z2\n",
      "PREDICTED:\n",
      "[[    -0.08715,      0.76933,     -2.26928], [    -0.07883,     -0.88482,     -2.16704]]\n",
      "REAL:\n",
      "[[    -0.14587,      0.80852,     -2.18800], [    -0.14697,     -0.88385,     -2.11400]]\n",
      "DIFFERENCE:\n",
      "[[     0.05872,      0.03919,      0.08128], [     0.06814,      0.00097,      0.05304]]\n",
      "----------------------------------------------------------------------------------------------\n",
      "--> BATCH: 4 <-- | --> ROW: 3 <--\n",
      "----------------------------------------------------------------------------------------------\n",
      "          X1           Y1           Z1           X2           Y2           Z2\n",
      "PREDICTED:\n",
      "[[    -0.26771,      0.72370,     -2.12137], [    -0.25554,     -0.92685,     -2.29249]]\n",
      "REAL:\n",
      "[[    -0.28700,      0.79462,     -2.05000], [    -0.28483,     -0.92407,     -2.28300]]\n",
      "DIFFERENCE:\n",
      "[[     0.01929,      0.07092,      0.07137], [     0.02929,      0.00278,      0.00949]]\n",
      "----------------------------------------------------------------------------------------------\n",
      "--> BATCH: 4 <-- | --> ROW: 4 <--\n",
      "----------------------------------------------------------------------------------------------\n",
      "          X1           Y1           Z1           X2           Y2           Z2\n",
      "PREDICTED:\n",
      "[[     0.12055,      0.30110,     -1.21422], [     0.13151,     -0.13334,     -1.32518]]\n",
      "REAL:\n",
      "[[     0.09985,      0.33770,     -1.17800], [     0.10780,     -0.15744,     -1.30100]]\n",
      "DIFFERENCE:\n",
      "[[     0.02069,      0.03659,      0.03622], [     0.02371,      0.02410,      0.02418]]\n",
      "----------------------------------------------------------------------------------------------\n",
      "--> BATCH: 4 <-- | --> ROW: 5 <--\n",
      "----------------------------------------------------------------------------------------------\n",
      "          X1           Y1           Z1           X2           Y2           Z2\n",
      "PREDICTED:\n",
      "[[     0.04272,      0.58548,     -2.16701], [     0.02898,     -0.93040,     -2.20548]]\n",
      "REAL:\n",
      "[[    -0.02027,      0.64620,     -2.12700], [    -0.03380,     -0.92668,     -2.21650]]\n",
      "DIFFERENCE:\n",
      "[[     0.06299,      0.06072,      0.04001], [     0.06278,      0.00372,      0.01102]]\n",
      "----------------------------------------------------------------------------------------------\n",
      "RMSE: 0.00191103\n"
     ]
    }
   ],
   "source": [
    "torch.manual_seed(101)\n",
    "with torch.no_grad():\n",
    "    for b, (X_test, y_test) in enumerate(test_loader):\n",
    "#         Apply the model\n",
    "        y_val = Model(X_test.cuda())\n",
    "#         print(y_val.shape)\n",
    "        for j in range(y_val.shape[0]):\n",
    "            print(f'--> BATCH: {b+1} <-- | --> ROW: {j} <--')\n",
    "            print(f'----------------------------------------------------------------------------------------------')\n",
    "            print(f'{\"X1\":>12} {\"Y1\":>12} {\"Z1\":>12} {\"X2\":>12} {\"Y2\":>12} {\"Z2\":>12}')\n",
    "            print(f'{\"PREDICTED:\"}')\n",
    "            print(f'[[{y_val[j][0]:12.5f}, {y_val[j][1]:12.5f}, {y_val[j][2]:12.5f}], [{y_val[j][3]:12.5f}, {y_val[j][4]:12.5f}, {y_val[j][5]:12.5f}]]')\n",
    "            print(f'{\"REAL:\"}')\n",
    "            print(f'[[{y_test[j][0]:12.5f}, {y_test[j][1]:12.5f}, {y_test[j][2]:12.5f}], [{y_test[j][3]:12.5f}, {y_test[j][4]:12.5f}, {y_test[j][5]:12.5f}]]')\n",
    "            print(f'{\"DIFFERENCE:\"}')\n",
    "            diff = np.abs(y_val.cpu().numpy()-y_test.cpu().numpy())\n",
    "            print(f'[[{diff[j][0]:12.5f}, {diff[j][1]:12.5f}, {diff[j][2]:12.5f}], [{diff[j][3]:12.5f}, {diff[j][4]:12.5f}, {diff[j][5]:12.5f}]]')\n",
    "            print(f'----------------------------------------------------------------------------------------------')\n",
    "loss = criterion(y_val, y_test.cuda())\n",
    "# diff = np.abs(y_val.cpu().numpy()-y_test.cpu().numpy())\n",
    "print(f'RMSE: {loss:.8f}')"
   ]
  },
  {
   "cell_type": "code",
   "execution_count": null,
   "id": "4f488246",
   "metadata": {
    "ExecuteTime": {
     "end_time": "2022-11-05T18:24:09.373928Z",
     "start_time": "2022-11-05T18:24:09.369916Z"
    }
   },
   "outputs": [],
   "source": []
  },
  {
   "cell_type": "code",
   "execution_count": 25,
   "id": "52fa1bc5",
   "metadata": {
    "ExecuteTime": {
     "end_time": "2022-11-27T19:42:01.822463Z",
     "start_time": "2022-11-27T19:42:01.818417Z"
    }
   },
   "outputs": [
    {
     "ename": "IndentationError",
     "evalue": "unexpected indent (2645487774.py, line 2)",
     "output_type": "error",
     "traceback": [
      "\u001b[0;36m  Cell \u001b[0;32mIn [25], line 2\u001b[0;36m\u001b[0m\n\u001b[0;31m    diff = np.abs(y_val[i].item()-y_test[i][k].item())\u001b[0m\n\u001b[0m    ^\u001b[0m\n\u001b[0;31mIndentationError\u001b[0m\u001b[0;31m:\u001b[0m unexpected indent\n"
     ]
    }
   ],
   "source": [
    "print(f'{\"PREDICTED\":>12} {\"ACTUAL\":>8} {\"DIFF\":>8}')\n",
    "        diff = np.abs(y_val[i].item()-y_test[i][k].item())\n",
    "            print(diff)\n",
    "#     print(f'{i+1:2}. {y_val[i].item():8.4f} {y_test[i].item():8.4f} {diff:8.4f}')"
   ]
  },
  {
   "cell_type": "code",
   "execution_count": null,
   "id": "9b7a7c8d",
   "metadata": {},
   "outputs": [],
   "source": []
  },
  {
   "cell_type": "code",
   "execution_count": null,
   "id": "c474164f",
   "metadata": {},
   "outputs": [],
   "source": []
  },
  {
   "cell_type": "code",
   "execution_count": null,
   "id": "80527311",
   "metadata": {},
   "outputs": [],
   "source": []
  },
  {
   "cell_type": "code",
   "execution_count": null,
   "id": "5d673a20",
   "metadata": {},
   "outputs": [],
   "source": []
  },
  {
   "cell_type": "code",
   "execution_count": null,
   "id": "db49c8ae",
   "metadata": {},
   "outputs": [],
   "source": []
  },
  {
   "cell_type": "code",
   "execution_count": null,
   "id": "351666d7",
   "metadata": {},
   "outputs": [],
   "source": []
  },
  {
   "cell_type": "code",
   "execution_count": null,
   "id": "e03f291f",
   "metadata": {},
   "outputs": [],
   "source": []
  },
  {
   "cell_type": "code",
   "execution_count": null,
   "id": "398c7b71",
   "metadata": {},
   "outputs": [],
   "source": []
  },
  {
   "cell_type": "code",
   "execution_count": null,
   "id": "28057c9c",
   "metadata": {},
   "outputs": [],
   "source": []
  },
  {
   "cell_type": "code",
   "execution_count": null,
   "id": "85f2bac8",
   "metadata": {},
   "outputs": [],
   "source": []
  }
 ],
 "metadata": {
  "kernelspec": {
   "display_name": "Python [conda env:AoR_CNN]",
   "language": "python",
   "name": "conda-env-AoR_CNN-py"
  },
  "language_info": {
   "codemirror_mode": {
    "name": "ipython",
    "version": 3
   },
   "file_extension": ".py",
   "mimetype": "text/x-python",
   "name": "python",
   "nbconvert_exporter": "python",
   "pygments_lexer": "ipython3",
   "version": "3.10.8"
  },
  "vscode": {
   "interpreter": {
    "hash": "75b361d4100cabf439e872d27edcfc9e968620b5cc1a2991a8793a2beed62efb"
   }
  }
 },
 "nbformat": 4,
 "nbformat_minor": 5
}
